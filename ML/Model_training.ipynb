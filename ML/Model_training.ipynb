{
  "nbformat": 4,
  "nbformat_minor": 0,
  "metadata": {
    "accelerator": "GPU",
    "colab": {
      "name": "Model_training.ipynb",
      "provenance": [],
      "collapsed_sections": []
    },
    "kernelspec": {
      "display_name": "Python 3",
      "language": "python",
      "name": "python3"
    },
    "language_info": {
      "codemirror_mode": {
        "name": "ipython",
        "version": 3
      },
      "file_extension": ".py",
      "mimetype": "text/x-python",
      "name": "python",
      "nbconvert_exporter": "python",
      "pygments_lexer": "ipython3",
      "version": "3.8.5"
    }
  },
  "cells": [
    {
      "cell_type": "markdown",
      "metadata": {
        "id": "Dbw9pYSAwPcn"
      },
      "source": [
        "### ***Notebook III: Training CNN***\n",
        " \n",
        "****"
      ]
    },
    {
      "cell_type": "markdown",
      "metadata": {
        "id": "FDIdZwT4E2xX"
      },
      "source": [
        "## **1. Libraries**"
      ]
    },
    {
      "cell_type": "code",
      "metadata": {
        "id": "edTjHSupDvgt"
      },
      "source": [
        "import sys\n",
        "import os\n",
        "import IPython\n",
        "import math\n",
        "import numpy as np\n",
        "import pandas as pd\n",
        "import pickle\n",
        "import matplotlib.pyplot as plt\n",
        "%matplotlib inline\n",
        "import seaborn as sb\n",
        "\n",
        "import random\n",
        "from datetime import datetime\n",
        "from keras.models import Sequential, load_model\n",
        "from keras.layers import Dense, SpatialDropout2D, Activation, Conv2D, MaxPooling2D, BatchNormalization, GlobalAveragePooling2D, LeakyReLU\n",
        "from keras.optimizers import Adam\n",
        "from tensorflow.keras.utils import to_categorical #from keras.utils import to_categorical\n",
        "from keras.regularizers import l2\n",
        "from sklearn.preprocessing import LabelEncoder\n",
        "from sklearn.metrics import classification_report, confusion_matrix\n",
        "\n",
        "\n",
        "from sklearn.model_selection import train_test_split\n",
        "from sklearn.preprocessing import StandardScaler\n",
        "from sklearn.decomposition import PCA"
      ],
      "execution_count": null,
      "outputs": []
    },
    {
      "cell_type": "markdown",
      "metadata": {
        "id": "vrGBsTD1E9HA"
      },
      "source": [
        "## **2. Urban Sound Dataset**"
      ]
    },
    {
      "cell_type": "code",
      "metadata": {
        "colab": {
          "base_uri": "https://localhost:8080/"
        },
        "id": "xG6rNjHfFa4Y",
        "outputId": "ec1f937a-f557-4a54-fa29-8d0be2c4b0c0"
      },
      "source": [
        "from google.colab import drive\n",
        "drive.mount('/content/drive')"
      ],
      "execution_count": null,
      "outputs": [
        {
          "output_type": "stream",
          "text": [
            "Mounted at /content/drive\n"
          ],
          "name": "stdout"
        }
      ]
    },
    {
      "cell_type": "code",
      "metadata": {
        "colab": {
          "base_uri": "https://localhost:8080/"
        },
        "id": "0YsSfKORb6JZ",
        "outputId": "9335a800-07d1-4857-cae1-2b206da94c11"
      },
      "source": [
        "#load paths\n",
        "drive.mount('/content/drive')\n",
        "\n",
        "main_project_path='/content/drive/MyDrive/UrbanSound8K'\n",
        "audio_path = main_project_path+'/audio'\n",
        "metadata_path = main_project_path+'/metadata/UrbanSound8K.csv'"
      ],
      "execution_count": null,
      "outputs": [
        {
          "output_type": "stream",
          "text": [
            "Drive already mounted at /content/drive; to attempt to forcibly remount, call drive.mount(\"/content/drive\", force_remount=True).\n"
          ],
          "name": "stdout"
        }
      ]
    },
    {
      "cell_type": "code",
      "metadata": {
        "colab": {
          "base_uri": "https://localhost:8080/",
          "height": 359
        },
        "id": "i20Vdy4BcTS0",
        "outputId": "49f1d3f7-8e62-4589-ca89-c969f69deb1c"
      },
      "source": [
        "metadata = pd.read_csv(metadata_path) \n",
        "metadata.head(10)"
      ],
      "execution_count": null,
      "outputs": [
        {
          "output_type": "execute_result",
          "data": {
            "text/html": [
              "<div>\n",
              "<style scoped>\n",
              "    .dataframe tbody tr th:only-of-type {\n",
              "        vertical-align: middle;\n",
              "    }\n",
              "\n",
              "    .dataframe tbody tr th {\n",
              "        vertical-align: top;\n",
              "    }\n",
              "\n",
              "    .dataframe thead th {\n",
              "        text-align: right;\n",
              "    }\n",
              "</style>\n",
              "<table border=\"1\" class=\"dataframe\">\n",
              "  <thead>\n",
              "    <tr style=\"text-align: right;\">\n",
              "      <th></th>\n",
              "      <th>slice_file_name</th>\n",
              "      <th>fsID</th>\n",
              "      <th>start</th>\n",
              "      <th>end</th>\n",
              "      <th>salience</th>\n",
              "      <th>fold</th>\n",
              "      <th>classID</th>\n",
              "      <th>class</th>\n",
              "    </tr>\n",
              "  </thead>\n",
              "  <tbody>\n",
              "    <tr>\n",
              "      <th>0</th>\n",
              "      <td>100032-3-0-0.wav</td>\n",
              "      <td>100032</td>\n",
              "      <td>0.000000</td>\n",
              "      <td>0.317551</td>\n",
              "      <td>1</td>\n",
              "      <td>5</td>\n",
              "      <td>3</td>\n",
              "      <td>dog_bark</td>\n",
              "    </tr>\n",
              "    <tr>\n",
              "      <th>1</th>\n",
              "      <td>100263-2-0-117.wav</td>\n",
              "      <td>100263</td>\n",
              "      <td>58.500000</td>\n",
              "      <td>62.500000</td>\n",
              "      <td>1</td>\n",
              "      <td>5</td>\n",
              "      <td>2</td>\n",
              "      <td>children_playing</td>\n",
              "    </tr>\n",
              "    <tr>\n",
              "      <th>2</th>\n",
              "      <td>100263-2-0-121.wav</td>\n",
              "      <td>100263</td>\n",
              "      <td>60.500000</td>\n",
              "      <td>64.500000</td>\n",
              "      <td>1</td>\n",
              "      <td>5</td>\n",
              "      <td>2</td>\n",
              "      <td>children_playing</td>\n",
              "    </tr>\n",
              "    <tr>\n",
              "      <th>3</th>\n",
              "      <td>100263-2-0-126.wav</td>\n",
              "      <td>100263</td>\n",
              "      <td>63.000000</td>\n",
              "      <td>67.000000</td>\n",
              "      <td>1</td>\n",
              "      <td>5</td>\n",
              "      <td>2</td>\n",
              "      <td>children_playing</td>\n",
              "    </tr>\n",
              "    <tr>\n",
              "      <th>4</th>\n",
              "      <td>100263-2-0-137.wav</td>\n",
              "      <td>100263</td>\n",
              "      <td>68.500000</td>\n",
              "      <td>72.500000</td>\n",
              "      <td>1</td>\n",
              "      <td>5</td>\n",
              "      <td>2</td>\n",
              "      <td>children_playing</td>\n",
              "    </tr>\n",
              "    <tr>\n",
              "      <th>5</th>\n",
              "      <td>100263-2-0-143.wav</td>\n",
              "      <td>100263</td>\n",
              "      <td>71.500000</td>\n",
              "      <td>75.500000</td>\n",
              "      <td>1</td>\n",
              "      <td>5</td>\n",
              "      <td>2</td>\n",
              "      <td>children_playing</td>\n",
              "    </tr>\n",
              "    <tr>\n",
              "      <th>6</th>\n",
              "      <td>100263-2-0-161.wav</td>\n",
              "      <td>100263</td>\n",
              "      <td>80.500000</td>\n",
              "      <td>84.500000</td>\n",
              "      <td>1</td>\n",
              "      <td>5</td>\n",
              "      <td>2</td>\n",
              "      <td>children_playing</td>\n",
              "    </tr>\n",
              "    <tr>\n",
              "      <th>7</th>\n",
              "      <td>100263-2-0-3.wav</td>\n",
              "      <td>100263</td>\n",
              "      <td>1.500000</td>\n",
              "      <td>5.500000</td>\n",
              "      <td>1</td>\n",
              "      <td>5</td>\n",
              "      <td>2</td>\n",
              "      <td>children_playing</td>\n",
              "    </tr>\n",
              "    <tr>\n",
              "      <th>8</th>\n",
              "      <td>100263-2-0-36.wav</td>\n",
              "      <td>100263</td>\n",
              "      <td>18.000000</td>\n",
              "      <td>22.000000</td>\n",
              "      <td>1</td>\n",
              "      <td>5</td>\n",
              "      <td>2</td>\n",
              "      <td>children_playing</td>\n",
              "    </tr>\n",
              "    <tr>\n",
              "      <th>9</th>\n",
              "      <td>100648-1-0-0.wav</td>\n",
              "      <td>100648</td>\n",
              "      <td>4.823402</td>\n",
              "      <td>5.471927</td>\n",
              "      <td>2</td>\n",
              "      <td>10</td>\n",
              "      <td>1</td>\n",
              "      <td>car_horn</td>\n",
              "    </tr>\n",
              "  </tbody>\n",
              "</table>\n",
              "</div>"
            ],
            "text/plain": [
              "      slice_file_name    fsID      start  ...  fold  classID             class\n",
              "0    100032-3-0-0.wav  100032   0.000000  ...     5        3          dog_bark\n",
              "1  100263-2-0-117.wav  100263  58.500000  ...     5        2  children_playing\n",
              "2  100263-2-0-121.wav  100263  60.500000  ...     5        2  children_playing\n",
              "3  100263-2-0-126.wav  100263  63.000000  ...     5        2  children_playing\n",
              "4  100263-2-0-137.wav  100263  68.500000  ...     5        2  children_playing\n",
              "5  100263-2-0-143.wav  100263  71.500000  ...     5        2  children_playing\n",
              "6  100263-2-0-161.wav  100263  80.500000  ...     5        2  children_playing\n",
              "7    100263-2-0-3.wav  100263   1.500000  ...     5        2  children_playing\n",
              "8   100263-2-0-36.wav  100263  18.000000  ...     5        2  children_playing\n",
              "9    100648-1-0-0.wav  100648   4.823402  ...    10        1          car_horn\n",
              "\n",
              "[10 rows x 8 columns]"
            ]
          },
          "metadata": {
            "tags": []
          },
          "execution_count": 4
        }
      ]
    },
    {
      "cell_type": "code",
      "metadata": {
        "id": "wiJjRpaOGXVn"
      },
      "source": [
        "def split_data(x,y,train=[],test=[],metadata=metadata):\n",
        "  x_train,y_train=[],[]\n",
        "  training_indexes,test_indexes=[],[]\n",
        "  for ind in train:\n",
        "    training_indexes=training_indexes+[idx_ for idx_ in metadata.loc[(metadata['fold'] == ind)].index.values]\n",
        "  x_train=[ x[i] for i in sorted(training_indexes)]\n",
        "  y_train=[ y[i] for i in sorted(training_indexes)]\n",
        "  for ind in test:\n",
        "    test_indexes=test_indexes+[idx_ for idx_ in metadata.loc[(metadata['fold'] == ind)].index.values]\n",
        "  x_test=[ x[i] for i in sorted(test_indexes)]\n",
        "  y_test=[ y[i] for i in sorted(test_indexes)]\n",
        "  return np.array(x_train) , np.array( y_train ) ,np.array(  x_test ) , np.array( y_test) ,training_indexes,test_indexes"
      ],
      "execution_count": null,
      "outputs": []
    },
    {
      "cell_type": "markdown",
      "metadata": {
        "id": "ZkVkihNfLdTp"
      },
      "source": [
        "## **3. Methods for Performance Metrics Measures & Graph Plotting**"
      ]
    },
    {
      "cell_type": "code",
      "metadata": {
        "id": "zG29hNasLeT-"
      },
      "source": [
        "def evaluate_model(model, X_train, y_train, X_test, y_test):\n",
        "    train_score = model.evaluate(X_train, y_train, verbose=0)\n",
        "    test_score = model.evaluate(X_test, y_test, verbose=0)\n",
        "    return train_score, test_score"
      ],
      "execution_count": null,
      "outputs": []
    },
    {
      "cell_type": "code",
      "metadata": {
        "id": "JPy2EIaDLnMx"
      },
      "source": [
        "def model_evaluation_report(model, X_train, y_train, X_test, y_test, calc_normal=True):\n",
        "    dash = '-' * 38\n",
        "    train_score, test_score = evaluate_model(model, X_train, y_train, X_test, y_test)\n",
        "    \n",
        "    print('{:<10s}{:>14s}{:>14s}'.format(\"\", \"LOSS\", \"ACCURACY\"))\n",
        "    print(dash)\n",
        "    print('{:<10s}{:>14.4f}{:>14.4f}'.format( \"Training:\", train_score[0], 100 * train_score[1]))\n",
        "    print('{:<10s}{:>14.4f}{:>14.4f}'.format( \"Test:\", test_score[0], 100 * test_score[1]))\n",
        "    if (calc_normal):\n",
        "        max_err = max(train_score[0], test_score[0])\n",
        "        error_diff = max_err - min(train_score[0], test_score[0])\n",
        "        normal_diff = error_diff * 100 / max_err\n",
        "        print('{:<10s}{:>13.2f}{:>1s}'.format(\"Normal diff \", normal_diff, \"\"))"
      ],
      "execution_count": null,
      "outputs": []
    },
    {
      "cell_type": "code",
      "metadata": {
        "id": "TrZVp2KeL7HH"
      },
      "source": [
        "def acc_plot(m):\n",
        "  plt.figure(figsize=(8,5))\n",
        "  sb.set_style(\"whitegrid\")\n",
        "  plt.plot(m.history['accuracy'],color=\"#E74C3C\",marker='o')\n",
        "  plt.plot(m.history['val_accuracy'],color='#641E16',marker='h')\n",
        "  plt.title('Accuracy comparison between Validation and Train Data set',fontsize=15)\n",
        "  plt.ylabel('Accuracy')\n",
        "  plt.xlabel('Epoch')\n",
        "  plt.legend(['Train', 'Test'], loc='best')\n",
        "  plt.show()"
      ],
      "execution_count": null,
      "outputs": []
    },
    {
      "cell_type": "code",
      "metadata": {
        "id": "klRtyqIJlvCz"
      },
      "source": [
        "def acc_per_class(np_probs_array):    \n",
        "    accs = []\n",
        "    for idx in range(0, np_probs_array.shape[0]):\n",
        "        correct = np_probs_array[idx][idx].astype(int)\n",
        "        total = np_probs_array[idx].sum().astype(int)\n",
        "        acc = (correct / total) * 100\n",
        "        accs.append(acc)\n",
        "    return accs"
      ],
      "execution_count": null,
      "outputs": []
    },
    {
      "cell_type": "markdown",
      "metadata": {
        "id": "yFkKGzZPFuZQ"
      },
      "source": [
        "## **4. Loading Extracted MFCCs**"
      ]
    },
    {
      "cell_type": "code",
      "metadata": {
        "id": "AB4sprlRbmuW"
      },
      "source": [
        "X = np.load(main_project_path+\"/X-mfcc.npy\")#load xmfcc and ymfcc path\n",
        "y = np.load(main_project_path+\"/y-mfcc.npy\")"
      ],
      "execution_count": null,
      "outputs": []
    },
    {
      "cell_type": "markdown",
      "metadata": {
        "id": "J3ZGdEfWr5u5"
      },
      "source": [
        ""
      ]
    },
    {
      "cell_type": "markdown",
      "metadata": {
        "id": "8JVnL-vQF8OG"
      },
      "source": [
        "## **5 Train and Test Splitting**"
      ]
    },
    {
      "cell_type": "code",
      "metadata": {
        "id": "tbrvoDS1GAnF"
      },
      "source": [
        "indexes = []\n",
        "total = 8262 #Some files was corrupted...so I just ignored them.\n",
        "indexes = list(range(0, total))\n",
        "random.shuffle(indexes) #Randomizing Indexes"
      ],
      "execution_count": null,
      "outputs": []
    },
    {
      "cell_type": "code",
      "metadata": {
        "id": "WCVGML2UGeqp"
      },
      "source": [
        "test_split_pct = 20\n",
        "split_offset = math.floor(test_split_pct * total / 100)"
      ],
      "execution_count": null,
      "outputs": []
    },
    {
      "cell_type": "code",
      "metadata": {
        "id": "Q59KkkFwG_2j"
      },
      "source": [
        "test_split_idx = indexes[0:split_offset]\n",
        "train_split_idx = indexes[split_offset:total]"
      ],
      "execution_count": null,
      "outputs": []
    },
    {
      "cell_type": "code",
      "metadata": {
        "id": "JiWiomRZHUnh"
      },
      "source": [
        "#Spliting the features with the same indexes\n",
        "\n",
        "X_train,y_train,X_test,y_test,train_split_idx,test_split_idx= split_data(X,y,train=[1,2,3,4,6],test=[5,7,8,9,10])"
      ],
      "execution_count": null,
      "outputs": []
    },
    {
      "cell_type": "code",
      "metadata": {
        "id": "eUvGgGC1HZ4S"
      },
      "source": [
        "#Also spliting metadata\n",
        "test_meta = metadata.iloc[test_split_idx]\n",
        "train_meta = metadata.iloc[train_split_idx]"
      ],
      "execution_count": null,
      "outputs": []
    },
    {
      "cell_type": "code",
      "metadata": {
        "colab": {
          "base_uri": "https://localhost:8080/"
        },
        "id": "LtcFaHR6GT6z",
        "outputId": "46f9ffde-7b4b-4d36-ba04-821136d60b0e"
      },
      "source": [
        "print(\"--------------------Test Data Details--------------------\")\n",
        "print(\"Test split: {} \".format(len(test_meta)))\n",
        "print(\"X test shape: {} \".format(X_test.shape))\n",
        "print(\"y test shape: {} \".format(y_test.shape))\n",
        "print(\"--------------------Train Data Details--------------------\")\n",
        "print(\"Train split: {}\".format(len(train_meta)))\n",
        "print(\"X train shape: {}\".format(X_train.shape))\n",
        "print(\"y train shape: {}\".format(y_train.shape))"
      ],
      "execution_count": null,
      "outputs": [
        {
          "output_type": "stream",
          "text": [
            "--------------------Test Data Details--------------------\n",
            "Test split: 4233 \n",
            "X test shape: (4233, 40, 174) \n",
            "y test shape: (4233,) \n",
            "--------------------Train Data Details--------------------\n",
            "Train split: 4499\n",
            "X train shape: (4499, 40, 174)\n",
            "y train shape: (4499,)\n"
          ],
          "name": "stdout"
        }
      ]
    },
    {
      "cell_type": "markdown",
      "metadata": {
        "id": "rFwsof0zIdlF"
      },
      "source": [
        "## **6. Normalizing the Data**"
      ]
    },
    {
      "cell_type": "code",
      "metadata": {
        "id": "Se-b8OBWI_xH"
      },
      "source": [
        "num_rows = 40\n",
        "num_columns = 174\n",
        "num_channels = 1"
      ],
      "execution_count": null,
      "outputs": []
    },
    {
      "cell_type": "code",
      "metadata": {
        "id": "4O0zZudjIvPy"
      },
      "source": [
        "le = LabelEncoder()\n",
        "y_test_encoded = to_categorical(le.fit_transform(y_test))\n",
        "y_train_encoded = to_categorical(le.fit_transform(y_train))"
      ],
      "execution_count": null,
      "outputs": []
    },
    {
      "cell_type": "code",
      "metadata": {
        "id": "6mYvo0gzGeJ7"
      },
      "source": [
        "# Reshape to fit the network input (channel last)\n",
        "X_train = X_train.reshape(X_train.shape[0], num_rows, num_columns, num_channels)\n",
        "X_test = X_test.reshape(X_test.shape[0], num_rows, num_columns, num_channels)"
      ],
      "execution_count": null,
      "outputs": []
    },
    {
      "cell_type": "code",
      "metadata": {
        "id": "Ui4EAYWAIzUl"
      },
      "source": [
        "# Total number of labels to predict (equal to the network output nodes)\n",
        "num_labels = y_train_encoded.shape[1]"
      ],
      "execution_count": null,
      "outputs": []
    },
    {
      "cell_type": "code",
      "metadata": {
        "colab": {
          "base_uri": "https://localhost:8080/"
        },
        "id": "1bRKmc6TraOe",
        "outputId": "386a2f6e-cfd2-4a7b-8b3c-3fa7f825b2e7"
      },
      "source": [
        "X_train.shape"
      ],
      "execution_count": null,
      "outputs": [
        {
          "output_type": "execute_result",
          "data": {
            "text/plain": [
              "(4499, 40, 174, 1)"
            ]
          },
          "metadata": {
            "tags": []
          },
          "execution_count": 21
        }
      ]
    },
    {
      "cell_type": "code",
      "metadata": {
        "colab": {
          "base_uri": "https://localhost:8080/",
          "height": 296
        },
        "id": "xvAeT3nPrTtT",
        "outputId": "ab239610-503c-474d-dc1d-c8c31d298655"
      },
      "source": [
        "# Check PCA benefits\n",
        "scaler = StandardScaler()\n",
        "scaler.fit(X_train[:,0, ::,0])\n",
        "x_train_scaled = scaler.transform(X_train[:,0, ::,0])\n",
        "\n",
        "pca = PCA().fit(x_train_scaled)\n",
        "\n",
        "plt.plot(np.cumsum(pca.explained_variance_ratio_))\n",
        "plt.xlabel('Number of Components')\n",
        "plt.ylabel('Variance (%)')"
      ],
      "execution_count": null,
      "outputs": [
        {
          "output_type": "execute_result",
          "data": {
            "text/plain": [
              "Text(0, 0.5, 'Variance (%)')"
            ]
          },
          "metadata": {
            "tags": []
          },
          "execution_count": 22
        },
        {
          "output_type": "display_data",
          "data": {
            "image/png": "[encoded data removed]",
            "text/plain": [
              "<Figure size 432x288 with 1 Axes>"
            ]
          },
          "metadata": {
            "tags": [],
            "needs_background": "light"
          }
        }
      ]
    },
    {
      "cell_type": "markdown",
      "metadata": {
        "id": "pu7OS_g5rjbN"
      },
      "source": [
        "As we can see most of the variance is explained using all the features of the MFCC. This is expected since each feature gives information about the wave shape. Finally we can fit our model."
      ]
    },
    {
      "cell_type": "markdown",
      "metadata": {
        "id": "_AT481Ky9YiF"
      },
      "source": [
        "### 7. CNN Model Architecture - Model1 \n",
        "\n"
      ]
    },
    {
      "cell_type": "code",
      "metadata": {
        "id": "FUnApxYSqeUd"
      },
      "source": [
        "def create_model(spatial_dropout_rate_1=0, spatial_dropout_rate_2=0, l2_rate=0):\n",
        "\n",
        "    model = Sequential()\n",
        "    model.add(Conv2D(filters=32, kernel_size=(3, 3), kernel_regularizer=l2(l2_rate), input_shape=(num_rows, num_columns, num_channels)))\n",
        "    model.add(LeakyReLU(alpha=0.1))\n",
        "\n",
        "    \n",
        "    model.add(Conv2D(filters=32, kernel_size=(3, 3), kernel_regularizer=l2(l2_rate)))\n",
        "    model.add(LeakyReLU(alpha=0.1))\n",
        "\n",
        "    model.add(MaxPooling2D(pool_size=(2, 2)))\n",
        "\n",
        "    \n",
        "    model.add(Conv2D(filters=64, kernel_size=(3, 3), kernel_regularizer=l2(l2_rate)))\n",
        "    model.add(LeakyReLU(alpha=0.1))\n",
        "\n",
        "    \n",
        "    model.add(Conv2D(filters=64, kernel_size=(3,3), kernel_regularizer=l2(l2_rate)))\n",
        "    model.add(LeakyReLU(alpha=0.1))\n",
        "    \n",
        "    model.add(GlobalAveragePooling2D())\n",
        "    model.add(Dense(num_labels, activation='softmax'))\n",
        "    return model"
      ],
      "execution_count": null,
      "outputs": []
    },
    {
      "cell_type": "code",
      "metadata": {
        "id": "MFToow_Lqef2"
      },
      "source": [
        "#Regularization rates\n",
        "spatial_dropout_rate_1 = 0.07\n",
        "spatial_dropout_rate_2 = 0.14\n",
        "l2_rate = 0.0005\n",
        "#Calling Model\n",
        "model = create_model(spatial_dropout_rate_1, spatial_dropout_rate_2, l2_rate)"
      ],
      "execution_count": null,
      "outputs": []
    },
    {
      "cell_type": "code",
      "metadata": {
        "colab": {
          "base_uri": "https://localhost:8080/"
        },
        "id": "9HVv9sKqqejp",
        "outputId": "8c44831a-4b90-4eb3-ce44-3c6c9a961647"
      },
      "source": [
        "model.summary()"
      ],
      "execution_count": null,
      "outputs": [
        {
          "output_type": "stream",
          "text": [
            "Model: \"sequential\"\n",
            "_________________________________________________________________\n",
            "Layer (type)                 Output Shape              Param #   \n",
            "=================================================================\n",
            "conv2d (Conv2D)              (None, 38, 172, 32)       320       \n",
            "_________________________________________________________________\n",
            "leaky_re_lu (LeakyReLU)      (None, 38, 172, 32)       0         \n",
            "_________________________________________________________________\n",
            "conv2d_1 (Conv2D)            (None, 36, 170, 32)       9248      \n",
            "_________________________________________________________________\n",
            "leaky_re_lu_1 (LeakyReLU)    (None, 36, 170, 32)       0         \n",
            "_________________________________________________________________\n",
            "max_pooling2d (MaxPooling2D) (None, 18, 85, 32)        0         \n",
            "_________________________________________________________________\n",
            "conv2d_2 (Conv2D)            (None, 16, 83, 64)        18496     \n",
            "_________________________________________________________________\n",
            "leaky_re_lu_2 (LeakyReLU)    (None, 16, 83, 64)        0         \n",
            "_________________________________________________________________\n",
            "conv2d_3 (Conv2D)            (None, 14, 81, 64)        36928     \n",
            "_________________________________________________________________\n",
            "leaky_re_lu_3 (LeakyReLU)    (None, 14, 81, 64)        0         \n",
            "_________________________________________________________________\n",
            "global_average_pooling2d (Gl (None, 64)                0         \n",
            "_________________________________________________________________\n",
            "dense (Dense)                (None, 10)                650       \n",
            "=================================================================\n",
            "Total params: 65,642\n",
            "Trainable params: 65,642\n",
            "Non-trainable params: 0\n",
            "_________________________________________________________________\n"
          ],
          "name": "stdout"
        }
      ]
    },
    {
      "cell_type": "code",
      "metadata": {
        "colab": {
          "base_uri": "https://localhost:8080/"
        },
        "id": "lXXron5Pqemy",
        "outputId": "8e82ab8d-1cda-4b49-d142-38e1d2782bfb"
      },
      "source": [
        "adam = Adam(lr=1e-4, beta_1=0.99, beta_2=0.999)\n",
        "model.compile(loss='categorical_crossentropy', metrics=['accuracy'], optimizer=adam)"
      ],
      "execution_count": null,
      "outputs": [
        {
          "output_type": "stream",
          "text": [
            "/usr/local/lib/python3.7/dist-packages/tensorflow/python/keras/optimizer_v2/optimizer_v2.py:375: UserWarning: The `lr` argument is deprecated, use `learning_rate` instead.\n",
            "  \"The `lr` argument is deprecated, use `learning_rate` instead.\")\n"
          ],
          "name": "stderr"
        }
      ]
    },
    {
      "cell_type": "code",
      "metadata": {
        "id": "ZnuNGCuHqepv"
      },
      "source": [
        "from keras.callbacks import EarlyStopping\n",
        "early = EarlyStopping(monitor='val_accuracy', min_delta=0, patience=25, verbose=1, mode='auto')"
      ],
      "execution_count": null,
      "outputs": []
    },
    {
      "cell_type": "code",
      "metadata": {
        "colab": {
          "base_uri": "https://localhost:8080/"
        },
        "id": "2vEVh7qKqesq",
        "outputId": "640552e8-d9e9-40fe-c6d6-fb5481d83a12"
      },
      "source": [
        "history = model.fit(X_train, y_train_encoded, batch_size=128, epochs=250, validation_split=1/12., verbose=1, callbacks=[early])"
      ],
      "execution_count": null,
      "outputs": [
        {
          "output_type": "stream",
          "text": [
            "Epoch 1/250\n",
            "33/33 [==============================] - 48s 109ms/step - loss: 2.3684 - accuracy: 0.1216 - val_loss: 2.3568 - val_accuracy: 0.1387\n",
            "Epoch 2/250\n",
            "33/33 [==============================] - 2s 54ms/step - loss: 2.3497 - accuracy: 0.1082 - val_loss: 2.3365 - val_accuracy: 0.1893\n",
            "Epoch 3/250\n",
            "33/33 [==============================] - 2s 54ms/step - loss: 2.3207 - accuracy: 0.1297 - val_loss: 2.3248 - val_accuracy: 0.1147\n",
            "Epoch 4/250\n",
            "33/33 [==============================] - 2s 55ms/step - loss: 2.2903 - accuracy: 0.1061 - val_loss: 2.3339 - val_accuracy: 0.1147\n",
            "Epoch 5/250\n",
            "33/33 [==============================] - 2s 55ms/step - loss: 2.2713 - accuracy: 0.1138 - val_loss: 2.3139 - val_accuracy: 0.1147\n",
            "Epoch 6/250\n",
            "33/33 [==============================] - 2s 55ms/step - loss: 2.2483 - accuracy: 0.1083 - val_loss: 2.2790 - val_accuracy: 0.1280\n",
            "Epoch 7/250\n",
            "33/33 [==============================] - 2s 55ms/step - loss: 2.2173 - accuracy: 0.1143 - val_loss: 2.2511 - val_accuracy: 0.1120\n",
            "Epoch 8/250\n",
            "33/33 [==============================] - 2s 55ms/step - loss: 2.1916 - accuracy: 0.1229 - val_loss: 2.2382 - val_accuracy: 0.0933\n",
            "Epoch 9/250\n",
            "33/33 [==============================] - 2s 55ms/step - loss: 2.1755 - accuracy: 0.1573 - val_loss: 2.2102 - val_accuracy: 0.1040\n",
            "Epoch 10/250\n",
            "33/33 [==============================] - 2s 56ms/step - loss: 2.1433 - accuracy: 0.2427 - val_loss: 2.1871 - val_accuracy: 0.1253\n",
            "Epoch 11/250\n",
            "33/33 [==============================] - 2s 55ms/step - loss: 2.1027 - accuracy: 0.2930 - val_loss: 2.1560 - val_accuracy: 0.1840\n",
            "Epoch 12/250\n",
            "33/33 [==============================] - 2s 56ms/step - loss: 2.0881 - accuracy: 0.3191 - val_loss: 2.1186 - val_accuracy: 0.1813\n",
            "Epoch 13/250\n",
            "33/33 [==============================] - 2s 56ms/step - loss: 2.0380 - accuracy: 0.3052 - val_loss: 2.1213 - val_accuracy: 0.1787\n",
            "Epoch 14/250\n",
            "33/33 [==============================] - 2s 56ms/step - loss: 1.9981 - accuracy: 0.3207 - val_loss: 2.0526 - val_accuracy: 0.2107\n",
            "Epoch 15/250\n",
            "33/33 [==============================] - 2s 56ms/step - loss: 1.9559 - accuracy: 0.3355 - val_loss: 2.0378 - val_accuracy: 0.1840\n",
            "Epoch 16/250\n",
            "33/33 [==============================] - 2s 55ms/step - loss: 1.9239 - accuracy: 0.3458 - val_loss: 1.9663 - val_accuracy: 0.2667\n",
            "Epoch 17/250\n",
            "33/33 [==============================] - 2s 55ms/step - loss: 1.9069 - accuracy: 0.3369 - val_loss: 2.0285 - val_accuracy: 0.2320\n",
            "Epoch 18/250\n",
            "33/33 [==============================] - 2s 56ms/step - loss: 1.8609 - accuracy: 0.3688 - val_loss: 1.9964 - val_accuracy: 0.2293\n",
            "Epoch 19/250\n",
            "33/33 [==============================] - 2s 56ms/step - loss: 1.8652 - accuracy: 0.3626 - val_loss: 2.0195 - val_accuracy: 0.2667\n",
            "Epoch 20/250\n",
            "33/33 [==============================] - 2s 55ms/step - loss: 1.8354 - accuracy: 0.3726 - val_loss: 1.9423 - val_accuracy: 0.2693\n",
            "Epoch 21/250\n",
            "33/33 [==============================] - 2s 57ms/step - loss: 1.7983 - accuracy: 0.3788 - val_loss: 2.0023 - val_accuracy: 0.2693\n",
            "Epoch 22/250\n",
            "33/33 [==============================] - 2s 56ms/step - loss: 1.8114 - accuracy: 0.3929 - val_loss: 1.9192 - val_accuracy: 0.2747\n",
            "Epoch 23/250\n",
            "33/33 [==============================] - 2s 57ms/step - loss: 1.7681 - accuracy: 0.4097 - val_loss: 1.9745 - val_accuracy: 0.2747\n",
            "Epoch 24/250\n",
            "33/33 [==============================] - 2s 56ms/step - loss: 1.7697 - accuracy: 0.3996 - val_loss: 1.9227 - val_accuracy: 0.2907\n",
            "Epoch 25/250\n",
            "33/33 [==============================] - 2s 55ms/step - loss: 1.7349 - accuracy: 0.4165 - val_loss: 1.9685 - val_accuracy: 0.2800\n",
            "Epoch 26/250\n",
            "33/33 [==============================] - 2s 56ms/step - loss: 1.7047 - accuracy: 0.4360 - val_loss: 1.9102 - val_accuracy: 0.2933\n",
            "Epoch 27/250\n",
            "33/33 [==============================] - 2s 56ms/step - loss: 1.6713 - accuracy: 0.4380 - val_loss: 1.9596 - val_accuracy: 0.2773\n",
            "Epoch 28/250\n",
            "33/33 [==============================] - 2s 56ms/step - loss: 1.6762 - accuracy: 0.4411 - val_loss: 1.8998 - val_accuracy: 0.2987\n",
            "Epoch 29/250\n",
            "33/33 [==============================] - 2s 56ms/step - loss: 1.6551 - accuracy: 0.4390 - val_loss: 1.9509 - val_accuracy: 0.2693\n",
            "Epoch 30/250\n",
            "33/33 [==============================] - 2s 55ms/step - loss: 1.6264 - accuracy: 0.4551 - val_loss: 1.8962 - val_accuracy: 0.2987\n",
            "Epoch 31/250\n",
            "33/33 [==============================] - 2s 55ms/step - loss: 1.6164 - accuracy: 0.4543 - val_loss: 1.9550 - val_accuracy: 0.2720\n",
            "Epoch 32/250\n",
            "33/33 [==============================] - 2s 55ms/step - loss: 1.6222 - accuracy: 0.4604 - val_loss: 1.8879 - val_accuracy: 0.2773\n",
            "Epoch 33/250\n",
            "33/33 [==============================] - 2s 55ms/step - loss: 1.5683 - accuracy: 0.4865 - val_loss: 1.9338 - val_accuracy: 0.2853\n",
            "Epoch 34/250\n",
            "33/33 [==============================] - 2s 55ms/step - loss: 1.5691 - accuracy: 0.4684 - val_loss: 1.9432 - val_accuracy: 0.2773\n",
            "Epoch 35/250\n",
            "33/33 [==============================] - 2s 55ms/step - loss: 1.5649 - accuracy: 0.4777 - val_loss: 1.9009 - val_accuracy: 0.3040\n",
            "Epoch 36/250\n",
            "33/33 [==============================] - 2s 55ms/step - loss: 1.5349 - accuracy: 0.4680 - val_loss: 1.9418 - val_accuracy: 0.2907\n",
            "Epoch 37/250\n",
            "33/33 [==============================] - 2s 56ms/step - loss: 1.5197 - accuracy: 0.5048 - val_loss: 1.9139 - val_accuracy: 0.2960\n",
            "Epoch 38/250\n",
            "33/33 [==============================] - 2s 55ms/step - loss: 1.5415 - accuracy: 0.4878 - val_loss: 1.9569 - val_accuracy: 0.2880\n",
            "Epoch 39/250\n",
            "33/33 [==============================] - 2s 55ms/step - loss: 1.5238 - accuracy: 0.5140 - val_loss: 1.8869 - val_accuracy: 0.3173\n",
            "Epoch 40/250\n",
            "33/33 [==============================] - 2s 55ms/step - loss: 1.5176 - accuracy: 0.4979 - val_loss: 1.9742 - val_accuracy: 0.3013\n",
            "Epoch 41/250\n",
            "33/33 [==============================] - 2s 56ms/step - loss: 1.5091 - accuracy: 0.5134 - val_loss: 1.9208 - val_accuracy: 0.3093\n",
            "Epoch 42/250\n",
            "33/33 [==============================] - 2s 55ms/step - loss: 1.4840 - accuracy: 0.5127 - val_loss: 1.9205 - val_accuracy: 0.3307\n",
            "Epoch 43/250\n",
            "33/33 [==============================] - 2s 55ms/step - loss: 1.4799 - accuracy: 0.5134 - val_loss: 1.9412 - val_accuracy: 0.3360\n",
            "Epoch 44/250\n",
            "33/33 [==============================] - 2s 55ms/step - loss: 1.4708 - accuracy: 0.5147 - val_loss: 1.9539 - val_accuracy: 0.3253\n",
            "Epoch 45/250\n",
            "33/33 [==============================] - 2s 55ms/step - loss: 1.4623 - accuracy: 0.4991 - val_loss: 1.9403 - val_accuracy: 0.3440\n",
            "Epoch 46/250\n",
            "33/33 [==============================] - 2s 56ms/step - loss: 1.4850 - accuracy: 0.5182 - val_loss: 1.9724 - val_accuracy: 0.3173\n",
            "Epoch 47/250\n",
            "33/33 [==============================] - 2s 55ms/step - loss: 1.4460 - accuracy: 0.5194 - val_loss: 1.9111 - val_accuracy: 0.3813\n",
            "Epoch 48/250\n",
            "33/33 [==============================] - 2s 55ms/step - loss: 1.4285 - accuracy: 0.5318 - val_loss: 1.9954 - val_accuracy: 0.3307\n",
            "Epoch 49/250\n",
            "33/33 [==============================] - 2s 55ms/step - loss: 1.4507 - accuracy: 0.5231 - val_loss: 1.9234 - val_accuracy: 0.3813\n",
            "Epoch 50/250\n",
            "33/33 [==============================] - 2s 55ms/step - loss: 1.4547 - accuracy: 0.5203 - val_loss: 1.9829 - val_accuracy: 0.3280\n",
            "Epoch 51/250\n",
            "33/33 [==============================] - 2s 55ms/step - loss: 1.4291 - accuracy: 0.5203 - val_loss: 1.9462 - val_accuracy: 0.3653\n",
            "Epoch 52/250\n",
            "33/33 [==============================] - 2s 55ms/step - loss: 1.4223 - accuracy: 0.5389 - val_loss: 1.9657 - val_accuracy: 0.3387\n",
            "Epoch 53/250\n",
            "33/33 [==============================] - 2s 55ms/step - loss: 1.3851 - accuracy: 0.5447 - val_loss: 1.9727 - val_accuracy: 0.3493\n",
            "Epoch 54/250\n",
            "33/33 [==============================] - 2s 54ms/step - loss: 1.3962 - accuracy: 0.5446 - val_loss: 1.9626 - val_accuracy: 0.3547\n",
            "Epoch 55/250\n",
            "33/33 [==============================] - 2s 54ms/step - loss: 1.3947 - accuracy: 0.5515 - val_loss: 1.9588 - val_accuracy: 0.3627\n",
            "Epoch 56/250\n",
            "33/33 [==============================] - 2s 55ms/step - loss: 1.4024 - accuracy: 0.5241 - val_loss: 1.9705 - val_accuracy: 0.3440\n",
            "Epoch 57/250\n",
            "33/33 [==============================] - 2s 55ms/step - loss: 1.3920 - accuracy: 0.5459 - val_loss: 1.9823 - val_accuracy: 0.3627\n",
            "Epoch 58/250\n",
            "33/33 [==============================] - 2s 55ms/step - loss: 1.3932 - accuracy: 0.5517 - val_loss: 1.9890 - val_accuracy: 0.3387\n",
            "Epoch 59/250\n",
            "33/33 [==============================] - 2s 54ms/step - loss: 1.3614 - accuracy: 0.5621 - val_loss: 1.9537 - val_accuracy: 0.3680\n",
            "Epoch 60/250\n",
            "33/33 [==============================] - 2s 55ms/step - loss: 1.3764 - accuracy: 0.5459 - val_loss: 2.0055 - val_accuracy: 0.3653\n",
            "Epoch 61/250\n",
            "33/33 [==============================] - 2s 55ms/step - loss: 1.3882 - accuracy: 0.5508 - val_loss: 1.9741 - val_accuracy: 0.3573\n",
            "Epoch 62/250\n",
            "33/33 [==============================] - 2s 55ms/step - loss: 1.3815 - accuracy: 0.5571 - val_loss: 1.9737 - val_accuracy: 0.3707\n",
            "Epoch 63/250\n",
            "33/33 [==============================] - 2s 55ms/step - loss: 1.3515 - accuracy: 0.5717 - val_loss: 1.9853 - val_accuracy: 0.3707\n",
            "Epoch 64/250\n",
            "33/33 [==============================] - 2s 55ms/step - loss: 1.3707 - accuracy: 0.5612 - val_loss: 1.9833 - val_accuracy: 0.3680\n",
            "Epoch 65/250\n",
            "33/33 [==============================] - 2s 55ms/step - loss: 1.3567 - accuracy: 0.5662 - val_loss: 2.0087 - val_accuracy: 0.3760\n",
            "Epoch 66/250\n",
            "33/33 [==============================] - 2s 55ms/step - loss: 1.3762 - accuracy: 0.5541 - val_loss: 1.9906 - val_accuracy: 0.3813\n",
            "Epoch 67/250\n",
            "33/33 [==============================] - 2s 55ms/step - loss: 1.3465 - accuracy: 0.5621 - val_loss: 2.0273 - val_accuracy: 0.3733\n",
            "Epoch 68/250\n",
            "33/33 [==============================] - 2s 55ms/step - loss: 1.3386 - accuracy: 0.5682 - val_loss: 1.9802 - val_accuracy: 0.3733\n",
            "Epoch 69/250\n",
            "33/33 [==============================] - 2s 55ms/step - loss: 1.3441 - accuracy: 0.5661 - val_loss: 2.0273 - val_accuracy: 0.3733\n",
            "Epoch 70/250\n",
            "33/33 [==============================] - 2s 56ms/step - loss: 1.3377 - accuracy: 0.5627 - val_loss: 1.9873 - val_accuracy: 0.3653\n",
            "Epoch 71/250\n",
            "33/33 [==============================] - 2s 55ms/step - loss: 1.3505 - accuracy: 0.5644 - val_loss: 2.0243 - val_accuracy: 0.3760\n",
            "Epoch 72/250\n",
            "33/33 [==============================] - 2s 55ms/step - loss: 1.3317 - accuracy: 0.5581 - val_loss: 1.9971 - val_accuracy: 0.3520\n",
            "Epoch 00072: early stopping\n"
          ],
          "name": "stdout"
        }
      ]
    },
    {
      "cell_type": "code",
      "metadata": {
        "id": "UYnLmkt0qevo"
      },
      "source": [
        "labels = ['Air Conditioner', 'Car Horn', 'Children Playing', 'Dog bark', 'Drilling', 'Engine Idling', 'Gun Shot', 'Jackhammer', 'Siren', 'Street Music']"
      ],
      "execution_count": null,
      "outputs": []
    },
    {
      "cell_type": "code",
      "metadata": {
        "colab": {
          "base_uri": "https://localhost:8080/"
        },
        "id": "3Ce1hKltqey6",
        "outputId": "392ea0e0-0532-47af-d21d-89bf38e127f0"
      },
      "source": [
        "model_evaluation_report(model, X_train, y_train_encoded, X_test, y_test_encoded)"
      ],
      "execution_count": null,
      "outputs": [
        {
          "output_type": "stream",
          "text": [
            "                    LOSS      ACCURACY\n",
            "--------------------------------------\n",
            "Training:         1.3919       55.6346\n",
            "Test:             1.7894       42.7120\n",
            "Normal diff         22.21 \n"
          ],
          "name": "stdout"
        }
      ]
    },
    {
      "cell_type": "markdown",
      "metadata": {
        "id": "Wg0oUezir8me"
      },
      "source": [
        "### CNN - Model 2"
      ]
    },
    {
      "cell_type": "code",
      "metadata": {
        "id": "RFynNLbd9YiH"
      },
      "source": [
        "def create_model(spatial_dropout_rate_1=0, spatial_dropout_rate_2=0, l2_rate=0):\n",
        "\n",
        "    model = Sequential()\n",
        "    model.add(Conv2D(filters=32, kernel_size=(3, 3), kernel_regularizer=l2(l2_rate), input_shape=(num_rows, num_columns, num_channels)))\n",
        "    model.add(LeakyReLU(alpha=0.1))\n",
        "    model.add(BatchNormalization())\n",
        "\n",
        "    model.add(SpatialDropout2D(spatial_dropout_rate_1))\n",
        "    model.add(Conv2D(filters=32, kernel_size=(3, 3), kernel_regularizer=l2(l2_rate)))\n",
        "    model.add(LeakyReLU(alpha=0.1))\n",
        "    model.add(BatchNormalization())\n",
        "\n",
        "    model.add(MaxPooling2D(pool_size=(2, 2)))\n",
        "\n",
        "    model.add(SpatialDropout2D(spatial_dropout_rate_1))\n",
        "    model.add(Conv2D(filters=64, kernel_size=(3, 3), kernel_regularizer=l2(l2_rate)))\n",
        "    model.add(LeakyReLU(alpha=0.1))\n",
        "    model.add(BatchNormalization())\n",
        "\n",
        "    model.add(SpatialDropout2D(spatial_dropout_rate_2))\n",
        "    model.add(Conv2D(filters=64, kernel_size=(3,3), kernel_regularizer=l2(l2_rate)))\n",
        "    model.add(LeakyReLU(alpha=0.1))\n",
        "    model.add(BatchNormalization())\n",
        "    \n",
        "    model.add(GlobalAveragePooling2D())\n",
        "    model.add(Dense(num_labels, activation='softmax'))\n",
        "    return model"
      ],
      "execution_count": null,
      "outputs": []
    },
    {
      "cell_type": "code",
      "metadata": {
        "id": "PHvFAQ3_9YiI"
      },
      "source": [
        "#Regularization rates\n",
        "spatial_dropout_rate_1 = 0.07\n",
        "spatial_dropout_rate_2 = 0.14\n",
        "l2_rate = 0.0005\n",
        "#Calling Model\n",
        "model = create_model(spatial_dropout_rate_1, spatial_dropout_rate_2, l2_rate)"
      ],
      "execution_count": null,
      "outputs": []
    },
    {
      "cell_type": "code",
      "metadata": {
        "id": "pNbK-T6G9YiJ",
        "colab": {
          "base_uri": "https://localhost:8080/"
        },
        "outputId": "bc352dc0-2b80-467f-e79c-5787bcaf5d92"
      },
      "source": [
        "model.summary()"
      ],
      "execution_count": null,
      "outputs": [
        {
          "output_type": "stream",
          "text": [
            "Model: \"sequential_1\"\n",
            "_________________________________________________________________\n",
            "Layer (type)                 Output Shape              Param #   \n",
            "=================================================================\n",
            "conv2d_4 (Conv2D)            (None, 38, 172, 32)       320       \n",
            "_________________________________________________________________\n",
            "leaky_re_lu_4 (LeakyReLU)    (None, 38, 172, 32)       0         \n",
            "_________________________________________________________________\n",
            "batch_normalization (BatchNo (None, 38, 172, 32)       128       \n",
            "_________________________________________________________________\n",
            "spatial_dropout2d (SpatialDr (None, 38, 172, 32)       0         \n",
            "_________________________________________________________________\n",
            "conv2d_5 (Conv2D)            (None, 36, 170, 32)       9248      \n",
            "_________________________________________________________________\n",
            "leaky_re_lu_5 (LeakyReLU)    (None, 36, 170, 32)       0         \n",
            "_________________________________________________________________\n",
            "batch_normalization_1 (Batch (None, 36, 170, 32)       128       \n",
            "_________________________________________________________________\n",
            "max_pooling2d_1 (MaxPooling2 (None, 18, 85, 32)        0         \n",
            "_________________________________________________________________\n",
            "spatial_dropout2d_1 (Spatial (None, 18, 85, 32)        0         \n",
            "_________________________________________________________________\n",
            "conv2d_6 (Conv2D)            (None, 16, 83, 64)        18496     \n",
            "_________________________________________________________________\n",
            "leaky_re_lu_6 (LeakyReLU)    (None, 16, 83, 64)        0         \n",
            "_________________________________________________________________\n",
            "batch_normalization_2 (Batch (None, 16, 83, 64)        256       \n",
            "_________________________________________________________________\n",
            "spatial_dropout2d_2 (Spatial (None, 16, 83, 64)        0         \n",
            "_________________________________________________________________\n",
            "conv2d_7 (Conv2D)            (None, 14, 81, 64)        36928     \n",
            "_________________________________________________________________\n",
            "leaky_re_lu_7 (LeakyReLU)    (None, 14, 81, 64)        0         \n",
            "_________________________________________________________________\n",
            "batch_normalization_3 (Batch (None, 14, 81, 64)        256       \n",
            "_________________________________________________________________\n",
            "global_average_pooling2d_1 ( (None, 64)                0         \n",
            "_________________________________________________________________\n",
            "dense_1 (Dense)              (None, 10)                650       \n",
            "=================================================================\n",
            "Total params: 66,410\n",
            "Trainable params: 66,026\n",
            "Non-trainable params: 384\n",
            "_________________________________________________________________\n"
          ],
          "name": "stdout"
        }
      ]
    },
    {
      "cell_type": "code",
      "metadata": {
        "id": "SZISTEtE9YiK",
        "colab": {
          "base_uri": "https://localhost:8080/"
        },
        "outputId": "c4d5aa65-9dc0-4c9c-9848-d2b12ec80a97"
      },
      "source": [
        "adam = Adam(lr=1e-4, beta_1=0.99, beta_2=0.999)\n",
        "model.compile(loss='categorical_crossentropy', metrics=['accuracy'], optimizer=adam)"
      ],
      "execution_count": null,
      "outputs": [
        {
          "output_type": "stream",
          "text": [
            "/usr/local/lib/python3.7/dist-packages/tensorflow/python/keras/optimizer_v2/optimizer_v2.py:375: UserWarning: The `lr` argument is deprecated, use `learning_rate` instead.\n",
            "  \"The `lr` argument is deprecated, use `learning_rate` instead.\")\n"
          ],
          "name": "stderr"
        }
      ]
    },
    {
      "cell_type": "code",
      "metadata": {
        "id": "7rIc-8Uv9YiK"
      },
      "source": [
        "from keras.callbacks import EarlyStopping\n",
        "early = EarlyStopping(monitor='val_accuracy', min_delta=0, patience=25, verbose=1, mode='auto')"
      ],
      "execution_count": null,
      "outputs": []
    },
    {
      "cell_type": "code",
      "metadata": {
        "id": "HsJUqYVI5DHJ",
        "colab": {
          "base_uri": "https://localhost:8080/"
        },
        "outputId": "ff2a3715-f2a7-4e48-9d2f-4327826c71a5"
      },
      "source": [
        "history = model.fit(X_train, y_train_encoded, batch_size=128, epochs=250, validation_split=1/12., verbose=1, callbacks=[early])"
      ],
      "execution_count": null,
      "outputs": [
        {
          "output_type": "stream",
          "text": [
            "Epoch 1/250\n",
            "33/33 [==============================] - 7s 92ms/step - loss: 2.3591 - accuracy: 0.1606 - val_loss: 2.3806 - val_accuracy: 0.0000e+00\n",
            "Epoch 2/250\n",
            "33/33 [==============================] - 2s 75ms/step - loss: 2.0503 - accuracy: 0.3002 - val_loss: 2.3514 - val_accuracy: 0.1387\n",
            "Epoch 3/250\n",
            "33/33 [==============================] - 2s 75ms/step - loss: 1.8687 - accuracy: 0.3916 - val_loss: 2.3063 - val_accuracy: 0.2160\n",
            "Epoch 4/250\n",
            "33/33 [==============================] - 2s 75ms/step - loss: 1.8016 - accuracy: 0.4017 - val_loss: 2.2712 - val_accuracy: 0.1813\n",
            "Epoch 5/250\n",
            "33/33 [==============================] - 2s 75ms/step - loss: 1.7042 - accuracy: 0.4259 - val_loss: 2.2555 - val_accuracy: 0.1813\n",
            "Epoch 6/250\n",
            "33/33 [==============================] - 2s 75ms/step - loss: 1.6935 - accuracy: 0.4380 - val_loss: 2.2634 - val_accuracy: 0.1813\n",
            "Epoch 7/250\n",
            "33/33 [==============================] - 3s 76ms/step - loss: 1.6341 - accuracy: 0.4503 - val_loss: 2.2935 - val_accuracy: 0.1813\n",
            "Epoch 8/250\n",
            "33/33 [==============================] - 3s 76ms/step - loss: 1.6185 - accuracy: 0.4655 - val_loss: 2.3220 - val_accuracy: 0.1813\n",
            "Epoch 9/250\n",
            "33/33 [==============================] - 3s 76ms/step - loss: 1.5715 - accuracy: 0.4679 - val_loss: 2.3274 - val_accuracy: 0.1813\n",
            "Epoch 10/250\n",
            "33/33 [==============================] - 3s 77ms/step - loss: 1.5388 - accuracy: 0.4916 - val_loss: 2.3020 - val_accuracy: 0.1920\n",
            "Epoch 11/250\n",
            "33/33 [==============================] - 3s 77ms/step - loss: 1.5248 - accuracy: 0.4912 - val_loss: 2.2585 - val_accuracy: 0.2187\n",
            "Epoch 12/250\n",
            "33/33 [==============================] - 3s 76ms/step - loss: 1.4976 - accuracy: 0.5022 - val_loss: 2.2006 - val_accuracy: 0.2533\n",
            "Epoch 13/250\n",
            "33/33 [==============================] - 3s 77ms/step - loss: 1.4797 - accuracy: 0.5275 - val_loss: 2.1142 - val_accuracy: 0.3307\n",
            "Epoch 14/250\n",
            "33/33 [==============================] - 3s 76ms/step - loss: 1.4336 - accuracy: 0.5350 - val_loss: 2.0324 - val_accuracy: 0.3680\n",
            "Epoch 15/250\n",
            "33/33 [==============================] - 3s 76ms/step - loss: 1.4247 - accuracy: 0.5413 - val_loss: 1.9581 - val_accuracy: 0.3813\n",
            "Epoch 16/250\n",
            "33/33 [==============================] - 2s 76ms/step - loss: 1.3855 - accuracy: 0.5588 - val_loss: 1.8927 - val_accuracy: 0.4213\n",
            "Epoch 17/250\n",
            "33/33 [==============================] - 2s 76ms/step - loss: 1.4021 - accuracy: 0.5397 - val_loss: 1.8476 - val_accuracy: 0.4560\n",
            "Epoch 18/250\n",
            "33/33 [==============================] - 2s 75ms/step - loss: 1.4079 - accuracy: 0.5409 - val_loss: 1.8174 - val_accuracy: 0.4267\n",
            "Epoch 19/250\n",
            "33/33 [==============================] - 2s 75ms/step - loss: 1.3658 - accuracy: 0.5692 - val_loss: 1.7999 - val_accuracy: 0.4400\n",
            "Epoch 20/250\n",
            "33/33 [==============================] - 2s 75ms/step - loss: 1.3558 - accuracy: 0.5640 - val_loss: 1.7907 - val_accuracy: 0.4000\n",
            "Epoch 21/250\n",
            "33/33 [==============================] - 2s 75ms/step - loss: 1.3089 - accuracy: 0.5913 - val_loss: 1.7918 - val_accuracy: 0.3947\n",
            "Epoch 22/250\n",
            "33/33 [==============================] - 2s 75ms/step - loss: 1.3108 - accuracy: 0.5852 - val_loss: 1.7918 - val_accuracy: 0.3973\n",
            "Epoch 23/250\n",
            "33/33 [==============================] - 2s 75ms/step - loss: 1.3043 - accuracy: 0.5935 - val_loss: 1.7977 - val_accuracy: 0.3947\n",
            "Epoch 24/250\n",
            "33/33 [==============================] - 2s 75ms/step - loss: 1.2837 - accuracy: 0.6063 - val_loss: 1.8094 - val_accuracy: 0.4053\n",
            "Epoch 25/250\n",
            "33/33 [==============================] - 2s 75ms/step - loss: 1.2811 - accuracy: 0.5955 - val_loss: 1.8155 - val_accuracy: 0.4053\n",
            "Epoch 26/250\n",
            "33/33 [==============================] - 2s 75ms/step - loss: 1.2410 - accuracy: 0.6115 - val_loss: 1.8149 - val_accuracy: 0.4107\n",
            "Epoch 27/250\n",
            "33/33 [==============================] - 2s 75ms/step - loss: 1.2296 - accuracy: 0.6140 - val_loss: 1.8190 - val_accuracy: 0.4213\n",
            "Epoch 28/250\n",
            "33/33 [==============================] - 2s 75ms/step - loss: 1.2279 - accuracy: 0.6268 - val_loss: 1.8137 - val_accuracy: 0.4320\n",
            "Epoch 29/250\n",
            "33/33 [==============================] - 2s 75ms/step - loss: 1.2152 - accuracy: 0.6225 - val_loss: 1.8181 - val_accuracy: 0.4293\n",
            "Epoch 30/250\n",
            "33/33 [==============================] - 2s 75ms/step - loss: 1.2185 - accuracy: 0.6230 - val_loss: 1.8063 - val_accuracy: 0.4400\n",
            "Epoch 31/250\n",
            "33/33 [==============================] - 2s 75ms/step - loss: 1.2029 - accuracy: 0.6379 - val_loss: 1.7956 - val_accuracy: 0.4400\n",
            "Epoch 32/250\n",
            "33/33 [==============================] - 2s 75ms/step - loss: 1.2057 - accuracy: 0.6187 - val_loss: 1.8047 - val_accuracy: 0.4320\n",
            "Epoch 33/250\n",
            "33/33 [==============================] - 2s 75ms/step - loss: 1.1623 - accuracy: 0.6480 - val_loss: 1.8183 - val_accuracy: 0.4427\n",
            "Epoch 34/250\n",
            "33/33 [==============================] - 2s 74ms/step - loss: 1.1758 - accuracy: 0.6309 - val_loss: 1.8037 - val_accuracy: 0.4507\n",
            "Epoch 35/250\n",
            "33/33 [==============================] - 2s 75ms/step - loss: 1.1656 - accuracy: 0.6426 - val_loss: 1.8104 - val_accuracy: 0.4427\n",
            "Epoch 36/250\n",
            "33/33 [==============================] - 2s 75ms/step - loss: 1.1505 - accuracy: 0.6639 - val_loss: 1.8167 - val_accuracy: 0.4213\n",
            "Epoch 37/250\n",
            "33/33 [==============================] - 2s 75ms/step - loss: 1.1415 - accuracy: 0.6667 - val_loss: 1.7877 - val_accuracy: 0.4480\n",
            "Epoch 38/250\n",
            "33/33 [==============================] - 2s 75ms/step - loss: 1.1503 - accuracy: 0.6542 - val_loss: 1.7783 - val_accuracy: 0.4613\n",
            "Epoch 39/250\n",
            "33/33 [==============================] - 2s 75ms/step - loss: 1.1173 - accuracy: 0.6549 - val_loss: 1.7774 - val_accuracy: 0.4693\n",
            "Epoch 40/250\n",
            "33/33 [==============================] - 2s 74ms/step - loss: 1.1280 - accuracy: 0.6620 - val_loss: 1.7921 - val_accuracy: 0.4667\n",
            "Epoch 41/250\n",
            "33/33 [==============================] - 2s 75ms/step - loss: 1.0939 - accuracy: 0.6802 - val_loss: 1.8006 - val_accuracy: 0.4480\n",
            "Epoch 42/250\n",
            "33/33 [==============================] - 2s 75ms/step - loss: 1.0954 - accuracy: 0.6764 - val_loss: 1.7828 - val_accuracy: 0.4667\n",
            "Epoch 43/250\n",
            "33/33 [==============================] - 2s 75ms/step - loss: 1.0935 - accuracy: 0.6728 - val_loss: 1.7719 - val_accuracy: 0.4720\n",
            "Epoch 44/250\n",
            "33/33 [==============================] - 2s 75ms/step - loss: 1.0638 - accuracy: 0.6983 - val_loss: 1.7706 - val_accuracy: 0.4720\n",
            "Epoch 45/250\n",
            "33/33 [==============================] - 2s 75ms/step - loss: 1.0660 - accuracy: 0.6937 - val_loss: 1.7690 - val_accuracy: 0.4800\n",
            "Epoch 46/250\n",
            "33/33 [==============================] - 2s 75ms/step - loss: 1.0891 - accuracy: 0.6752 - val_loss: 1.7889 - val_accuracy: 0.4747\n",
            "Epoch 47/250\n",
            "33/33 [==============================] - 2s 75ms/step - loss: 1.0330 - accuracy: 0.7060 - val_loss: 1.8088 - val_accuracy: 0.4720\n",
            "Epoch 48/250\n",
            "33/33 [==============================] - 2s 75ms/step - loss: 1.0475 - accuracy: 0.6976 - val_loss: 1.7828 - val_accuracy: 0.4773\n",
            "Epoch 49/250\n",
            "33/33 [==============================] - 2s 75ms/step - loss: 1.0430 - accuracy: 0.6987 - val_loss: 1.7698 - val_accuracy: 0.4747\n",
            "Epoch 50/250\n",
            "33/33 [==============================] - 3s 76ms/step - loss: 1.0444 - accuracy: 0.6978 - val_loss: 1.7776 - val_accuracy: 0.4747\n",
            "Epoch 51/250\n",
            "33/33 [==============================] - 2s 75ms/step - loss: 1.0343 - accuracy: 0.6963 - val_loss: 1.7701 - val_accuracy: 0.4747\n",
            "Epoch 52/250\n",
            "33/33 [==============================] - 2s 76ms/step - loss: 1.0336 - accuracy: 0.6949 - val_loss: 1.7636 - val_accuracy: 0.4693\n",
            "Epoch 53/250\n",
            "33/33 [==============================] - 2s 75ms/step - loss: 1.0249 - accuracy: 0.7039 - val_loss: 1.7604 - val_accuracy: 0.4747\n",
            "Epoch 54/250\n",
            "33/33 [==============================] - 2s 76ms/step - loss: 0.9898 - accuracy: 0.7108 - val_loss: 1.7788 - val_accuracy: 0.4747\n",
            "Epoch 55/250\n",
            "33/33 [==============================] - 3s 76ms/step - loss: 1.0331 - accuracy: 0.7093 - val_loss: 1.7371 - val_accuracy: 0.4987\n",
            "Epoch 56/250\n",
            "33/33 [==============================] - 3s 78ms/step - loss: 0.9945 - accuracy: 0.7100 - val_loss: 1.7287 - val_accuracy: 0.4960\n",
            "Epoch 57/250\n",
            "33/33 [==============================] - 2s 75ms/step - loss: 0.9835 - accuracy: 0.7219 - val_loss: 1.7478 - val_accuracy: 0.4880\n",
            "Epoch 58/250\n",
            "33/33 [==============================] - 2s 76ms/step - loss: 0.9947 - accuracy: 0.7122 - val_loss: 1.7511 - val_accuracy: 0.4880\n",
            "Epoch 59/250\n",
            "33/33 [==============================] - 2s 75ms/step - loss: 0.9759 - accuracy: 0.7165 - val_loss: 1.7660 - val_accuracy: 0.4907\n",
            "Epoch 60/250\n",
            "33/33 [==============================] - 2s 75ms/step - loss: 0.9490 - accuracy: 0.7283 - val_loss: 1.7474 - val_accuracy: 0.4960\n",
            "Epoch 61/250\n",
            "33/33 [==============================] - 2s 75ms/step - loss: 0.9415 - accuracy: 0.7360 - val_loss: 1.7371 - val_accuracy: 0.4960\n",
            "Epoch 62/250\n",
            "33/33 [==============================] - 2s 75ms/step - loss: 0.9313 - accuracy: 0.7438 - val_loss: 1.7365 - val_accuracy: 0.5013\n",
            "Epoch 63/250\n",
            "33/33 [==============================] - 2s 75ms/step - loss: 0.9428 - accuracy: 0.7316 - val_loss: 1.7352 - val_accuracy: 0.4987\n",
            "Epoch 64/250\n",
            "33/33 [==============================] - 2s 75ms/step - loss: 0.9210 - accuracy: 0.7431 - val_loss: 1.7531 - val_accuracy: 0.5067\n",
            "Epoch 65/250\n",
            "33/33 [==============================] - 3s 76ms/step - loss: 0.9315 - accuracy: 0.7325 - val_loss: 1.7697 - val_accuracy: 0.5013\n",
            "Epoch 66/250\n",
            "33/33 [==============================] - 2s 75ms/step - loss: 0.9148 - accuracy: 0.7413 - val_loss: 1.7560 - val_accuracy: 0.5067\n",
            "Epoch 67/250\n",
            "33/33 [==============================] - 2s 75ms/step - loss: 0.9089 - accuracy: 0.7352 - val_loss: 1.7403 - val_accuracy: 0.4987\n",
            "Epoch 68/250\n",
            "33/33 [==============================] - 2s 75ms/step - loss: 0.8864 - accuracy: 0.7408 - val_loss: 1.7324 - val_accuracy: 0.5040\n",
            "Epoch 69/250\n",
            "33/33 [==============================] - 2s 75ms/step - loss: 0.8998 - accuracy: 0.7453 - val_loss: 1.7285 - val_accuracy: 0.5093\n",
            "Epoch 70/250\n",
            "33/33 [==============================] - 2s 75ms/step - loss: 0.9057 - accuracy: 0.7472 - val_loss: 1.6969 - val_accuracy: 0.5120\n",
            "Epoch 71/250\n",
            "33/33 [==============================] - 2s 76ms/step - loss: 0.8890 - accuracy: 0.7448 - val_loss: 1.6652 - val_accuracy: 0.5200\n",
            "Epoch 72/250\n",
            "33/33 [==============================] - 2s 76ms/step - loss: 0.9102 - accuracy: 0.7392 - val_loss: 1.6923 - val_accuracy: 0.5120\n",
            "Epoch 73/250\n",
            "33/33 [==============================] - 2s 75ms/step - loss: 0.8683 - accuracy: 0.7571 - val_loss: 1.7319 - val_accuracy: 0.5067\n",
            "Epoch 74/250\n",
            "33/33 [==============================] - 2s 76ms/step - loss: 0.8679 - accuracy: 0.7539 - val_loss: 1.7397 - val_accuracy: 0.5067\n",
            "Epoch 75/250\n",
            "33/33 [==============================] - 2s 76ms/step - loss: 0.8801 - accuracy: 0.7492 - val_loss: 1.7289 - val_accuracy: 0.4987\n",
            "Epoch 76/250\n",
            "33/33 [==============================] - 2s 75ms/step - loss: 0.8574 - accuracy: 0.7533 - val_loss: 1.7113 - val_accuracy: 0.4960\n",
            "Epoch 77/250\n",
            "33/33 [==============================] - 2s 75ms/step - loss: 0.8505 - accuracy: 0.7683 - val_loss: 1.6709 - val_accuracy: 0.5173\n",
            "Epoch 78/250\n",
            "33/33 [==============================] - 3s 76ms/step - loss: 0.8658 - accuracy: 0.7611 - val_loss: 1.6500 - val_accuracy: 0.5280\n",
            "Epoch 79/250\n",
            "33/33 [==============================] - 2s 76ms/step - loss: 0.8345 - accuracy: 0.7639 - val_loss: 1.6725 - val_accuracy: 0.5227\n",
            "Epoch 80/250\n",
            "33/33 [==============================] - 2s 76ms/step - loss: 0.8426 - accuracy: 0.7721 - val_loss: 1.7180 - val_accuracy: 0.5147\n",
            "Epoch 81/250\n",
            "33/33 [==============================] - 2s 76ms/step - loss: 0.8305 - accuracy: 0.7639 - val_loss: 1.7449 - val_accuracy: 0.5147\n",
            "Epoch 82/250\n",
            "33/33 [==============================] - 2s 76ms/step - loss: 0.8400 - accuracy: 0.7632 - val_loss: 1.7523 - val_accuracy: 0.5067\n",
            "Epoch 83/250\n",
            "33/33 [==============================] - 2s 76ms/step - loss: 0.8322 - accuracy: 0.7655 - val_loss: 1.7185 - val_accuracy: 0.5173\n",
            "Epoch 84/250\n",
            "33/33 [==============================] - 2s 76ms/step - loss: 0.8288 - accuracy: 0.7654 - val_loss: 1.6904 - val_accuracy: 0.5280\n",
            "Epoch 85/250\n",
            "33/33 [==============================] - 2s 75ms/step - loss: 0.8081 - accuracy: 0.7725 - val_loss: 1.6982 - val_accuracy: 0.5120\n",
            "Epoch 86/250\n",
            "33/33 [==============================] - 2s 75ms/step - loss: 0.8132 - accuracy: 0.7655 - val_loss: 1.7117 - val_accuracy: 0.5147\n",
            "Epoch 87/250\n",
            "33/33 [==============================] - 2s 76ms/step - loss: 0.7821 - accuracy: 0.7912 - val_loss: 1.7181 - val_accuracy: 0.5013\n",
            "Epoch 88/250\n",
            "33/33 [==============================] - 2s 76ms/step - loss: 0.8061 - accuracy: 0.7728 - val_loss: 1.7165 - val_accuracy: 0.5147\n",
            "Epoch 89/250\n",
            "33/33 [==============================] - 2s 75ms/step - loss: 0.7878 - accuracy: 0.7802 - val_loss: 1.7242 - val_accuracy: 0.5173\n",
            "Epoch 90/250\n",
            "33/33 [==============================] - 2s 75ms/step - loss: 0.7928 - accuracy: 0.7847 - val_loss: 1.6971 - val_accuracy: 0.5147\n",
            "Epoch 91/250\n",
            "33/33 [==============================] - 2s 75ms/step - loss: 0.7722 - accuracy: 0.7837 - val_loss: 1.6888 - val_accuracy: 0.5067\n",
            "Epoch 92/250\n",
            "33/33 [==============================] - 2s 75ms/step - loss: 0.7869 - accuracy: 0.7717 - val_loss: 1.7050 - val_accuracy: 0.5147\n",
            "Epoch 93/250\n",
            "33/33 [==============================] - 2s 75ms/step - loss: 0.7883 - accuracy: 0.7872 - val_loss: 1.7077 - val_accuracy: 0.5227\n",
            "Epoch 94/250\n",
            "33/33 [==============================] - 2s 75ms/step - loss: 0.7671 - accuracy: 0.7845 - val_loss: 1.6898 - val_accuracy: 0.5147\n",
            "Epoch 95/250\n",
            "33/33 [==============================] - 2s 75ms/step - loss: 0.7708 - accuracy: 0.7920 - val_loss: 1.6445 - val_accuracy: 0.5280\n",
            "Epoch 96/250\n",
            "33/33 [==============================] - 2s 76ms/step - loss: 0.7626 - accuracy: 0.7960 - val_loss: 1.6453 - val_accuracy: 0.5333\n",
            "Epoch 97/250\n",
            "33/33 [==============================] - 2s 76ms/step - loss: 0.7628 - accuracy: 0.7873 - val_loss: 1.6432 - val_accuracy: 0.5200\n",
            "Epoch 98/250\n",
            "33/33 [==============================] - 2s 76ms/step - loss: 0.7660 - accuracy: 0.7911 - val_loss: 1.6611 - val_accuracy: 0.5227\n",
            "Epoch 99/250\n",
            "33/33 [==============================] - 3s 76ms/step - loss: 0.7363 - accuracy: 0.8002 - val_loss: 1.6991 - val_accuracy: 0.5333\n",
            "Epoch 100/250\n",
            "33/33 [==============================] - 2s 75ms/step - loss: 0.7366 - accuracy: 0.7913 - val_loss: 1.6819 - val_accuracy: 0.5120\n",
            "Epoch 101/250\n",
            "33/33 [==============================] - 2s 75ms/step - loss: 0.7382 - accuracy: 0.7990 - val_loss: 1.6720 - val_accuracy: 0.5147\n",
            "Epoch 102/250\n",
            "33/33 [==============================] - 2s 76ms/step - loss: 0.7346 - accuracy: 0.8035 - val_loss: 1.6911 - val_accuracy: 0.5173\n",
            "Epoch 103/250\n",
            "33/33 [==============================] - 2s 75ms/step - loss: 0.7502 - accuracy: 0.7969 - val_loss: 1.6649 - val_accuracy: 0.5307\n",
            "Epoch 104/250\n",
            "33/33 [==============================] - 2s 75ms/step - loss: 0.7230 - accuracy: 0.8090 - val_loss: 1.6476 - val_accuracy: 0.5173\n",
            "Epoch 105/250\n",
            "33/33 [==============================] - 2s 75ms/step - loss: 0.7248 - accuracy: 0.8011 - val_loss: 1.6958 - val_accuracy: 0.5173\n",
            "Epoch 106/250\n",
            "33/33 [==============================] - 2s 76ms/step - loss: 0.7231 - accuracy: 0.8033 - val_loss: 1.6810 - val_accuracy: 0.5253\n",
            "Epoch 107/250\n",
            "33/33 [==============================] - 2s 75ms/step - loss: 0.7120 - accuracy: 0.8058 - val_loss: 1.6988 - val_accuracy: 0.5360\n",
            "Epoch 108/250\n",
            "33/33 [==============================] - 3s 76ms/step - loss: 0.7056 - accuracy: 0.8116 - val_loss: 1.7196 - val_accuracy: 0.5227\n",
            "Epoch 109/250\n",
            "33/33 [==============================] - 2s 75ms/step - loss: 0.7071 - accuracy: 0.8085 - val_loss: 1.7044 - val_accuracy: 0.5120\n",
            "Epoch 110/250\n",
            "33/33 [==============================] - 3s 76ms/step - loss: 0.7168 - accuracy: 0.8007 - val_loss: 1.6421 - val_accuracy: 0.5280\n",
            "Epoch 111/250\n",
            "33/33 [==============================] - 2s 76ms/step - loss: 0.7215 - accuracy: 0.7981 - val_loss: 1.6338 - val_accuracy: 0.5387\n",
            "Epoch 112/250\n",
            "33/33 [==============================] - 2s 76ms/step - loss: 0.6925 - accuracy: 0.8154 - val_loss: 1.6174 - val_accuracy: 0.5307\n",
            "Epoch 113/250\n",
            "33/33 [==============================] - 2s 76ms/step - loss: 0.6959 - accuracy: 0.8100 - val_loss: 1.6184 - val_accuracy: 0.5200\n",
            "Epoch 114/250\n",
            "33/33 [==============================] - 3s 76ms/step - loss: 0.6878 - accuracy: 0.8085 - val_loss: 1.6017 - val_accuracy: 0.5147\n",
            "Epoch 115/250\n",
            "33/33 [==============================] - 3s 76ms/step - loss: 0.6954 - accuracy: 0.8080 - val_loss: 1.6124 - val_accuracy: 0.5280\n",
            "Epoch 116/250\n",
            "33/33 [==============================] - 3s 76ms/step - loss: 0.6923 - accuracy: 0.8089 - val_loss: 1.6281 - val_accuracy: 0.5413\n",
            "Epoch 117/250\n",
            "33/33 [==============================] - 2s 75ms/step - loss: 0.6675 - accuracy: 0.8151 - val_loss: 1.5899 - val_accuracy: 0.5253\n",
            "Epoch 118/250\n",
            "33/33 [==============================] - 3s 76ms/step - loss: 0.6708 - accuracy: 0.8154 - val_loss: 1.6015 - val_accuracy: 0.5333\n",
            "Epoch 119/250\n",
            "33/33 [==============================] - 2s 76ms/step - loss: 0.6830 - accuracy: 0.8135 - val_loss: 1.6308 - val_accuracy: 0.5307\n",
            "Epoch 120/250\n",
            "33/33 [==============================] - 2s 75ms/step - loss: 0.6699 - accuracy: 0.8119 - val_loss: 1.6811 - val_accuracy: 0.5333\n",
            "Epoch 121/250\n",
            "33/33 [==============================] - 2s 75ms/step - loss: 0.6793 - accuracy: 0.8199 - val_loss: 1.6962 - val_accuracy: 0.5307\n",
            "Epoch 122/250\n",
            "33/33 [==============================] - 2s 75ms/step - loss: 0.6530 - accuracy: 0.8234 - val_loss: 1.7066 - val_accuracy: 0.5200\n",
            "Epoch 123/250\n",
            "33/33 [==============================] - 2s 76ms/step - loss: 0.6632 - accuracy: 0.8157 - val_loss: 1.6681 - val_accuracy: 0.5333\n",
            "Epoch 124/250\n",
            "33/33 [==============================] - 2s 75ms/step - loss: 0.6661 - accuracy: 0.8190 - val_loss: 1.6611 - val_accuracy: 0.5360\n",
            "Epoch 125/250\n",
            "33/33 [==============================] - 2s 76ms/step - loss: 0.6681 - accuracy: 0.8173 - val_loss: 1.6286 - val_accuracy: 0.5387\n",
            "Epoch 126/250\n",
            "33/33 [==============================] - 2s 76ms/step - loss: 0.6589 - accuracy: 0.8249 - val_loss: 1.6073 - val_accuracy: 0.5280\n",
            "Epoch 127/250\n",
            "33/33 [==============================] - 2s 76ms/step - loss: 0.6522 - accuracy: 0.8189 - val_loss: 1.6310 - val_accuracy: 0.5280\n",
            "Epoch 128/250\n",
            "33/33 [==============================] - 2s 75ms/step - loss: 0.6415 - accuracy: 0.8264 - val_loss: 1.6957 - val_accuracy: 0.5200\n",
            "Epoch 129/250\n",
            "33/33 [==============================] - 3s 76ms/step - loss: 0.6302 - accuracy: 0.8288 - val_loss: 1.6787 - val_accuracy: 0.5200\n",
            "Epoch 130/250\n",
            "33/33 [==============================] - 3s 76ms/step - loss: 0.6258 - accuracy: 0.8402 - val_loss: 1.6806 - val_accuracy: 0.5227\n",
            "Epoch 131/250\n",
            "33/33 [==============================] - 2s 76ms/step - loss: 0.6486 - accuracy: 0.8250 - val_loss: 1.6641 - val_accuracy: 0.5227\n",
            "Epoch 132/250\n",
            "33/33 [==============================] - 2s 76ms/step - loss: 0.6153 - accuracy: 0.8405 - val_loss: 1.6641 - val_accuracy: 0.5067\n",
            "Epoch 133/250\n",
            "33/33 [==============================] - 2s 75ms/step - loss: 0.6284 - accuracy: 0.8272 - val_loss: 1.6991 - val_accuracy: 0.5173\n",
            "Epoch 134/250\n",
            "33/33 [==============================] - 2s 75ms/step - loss: 0.6197 - accuracy: 0.8328 - val_loss: 1.6657 - val_accuracy: 0.5253\n",
            "Epoch 135/250\n",
            "33/33 [==============================] - 2s 76ms/step - loss: 0.6361 - accuracy: 0.8236 - val_loss: 1.5903 - val_accuracy: 0.5413\n",
            "Epoch 136/250\n",
            "33/33 [==============================] - 2s 76ms/step - loss: 0.6340 - accuracy: 0.8330 - val_loss: 1.6016 - val_accuracy: 0.5413\n",
            "Epoch 137/250\n",
            "33/33 [==============================] - 2s 76ms/step - loss: 0.6094 - accuracy: 0.8370 - val_loss: 1.6454 - val_accuracy: 0.5413\n",
            "Epoch 138/250\n",
            "33/33 [==============================] - 2s 76ms/step - loss: 0.6110 - accuracy: 0.8368 - val_loss: 1.6879 - val_accuracy: 0.5333\n",
            "Epoch 139/250\n",
            "33/33 [==============================] - 2s 76ms/step - loss: 0.6058 - accuracy: 0.8288 - val_loss: 1.6800 - val_accuracy: 0.5360\n",
            "Epoch 140/250\n",
            "33/33 [==============================] - 2s 75ms/step - loss: 0.6005 - accuracy: 0.8432 - val_loss: 1.6386 - val_accuracy: 0.5440\n",
            "Epoch 141/250\n",
            "33/33 [==============================] - 2s 76ms/step - loss: 0.6123 - accuracy: 0.8325 - val_loss: 1.6654 - val_accuracy: 0.5307\n",
            "Epoch 142/250\n",
            "33/33 [==============================] - 3s 76ms/step - loss: 0.6043 - accuracy: 0.8471 - val_loss: 1.6678 - val_accuracy: 0.5307\n",
            "Epoch 143/250\n",
            "33/33 [==============================] - 2s 76ms/step - loss: 0.6063 - accuracy: 0.8401 - val_loss: 1.6380 - val_accuracy: 0.5387\n",
            "Epoch 144/250\n",
            "33/33 [==============================] - 2s 75ms/step - loss: 0.5790 - accuracy: 0.8477 - val_loss: 1.6252 - val_accuracy: 0.5387\n",
            "Epoch 145/250\n",
            "33/33 [==============================] - 2s 76ms/step - loss: 0.6026 - accuracy: 0.8402 - val_loss: 1.6384 - val_accuracy: 0.5413\n",
            "Epoch 146/250\n",
            "33/33 [==============================] - 3s 76ms/step - loss: 0.5936 - accuracy: 0.8419 - val_loss: 1.6512 - val_accuracy: 0.5387\n",
            "Epoch 147/250\n",
            "33/33 [==============================] - 2s 75ms/step - loss: 0.5968 - accuracy: 0.8392 - val_loss: 1.6865 - val_accuracy: 0.5333\n",
            "Epoch 148/250\n",
            "33/33 [==============================] - 2s 76ms/step - loss: 0.5781 - accuracy: 0.8483 - val_loss: 1.6821 - val_accuracy: 0.5413\n",
            "Epoch 149/250\n",
            "33/33 [==============================] - 2s 76ms/step - loss: 0.5907 - accuracy: 0.8405 - val_loss: 1.6790 - val_accuracy: 0.5413\n",
            "Epoch 150/250\n",
            "33/33 [==============================] - 2s 76ms/step - loss: 0.5900 - accuracy: 0.8434 - val_loss: 1.6914 - val_accuracy: 0.5387\n",
            "Epoch 151/250\n",
            "33/33 [==============================] - 2s 75ms/step - loss: 0.5669 - accuracy: 0.8565 - val_loss: 1.7074 - val_accuracy: 0.5280\n",
            "Epoch 152/250\n",
            "33/33 [==============================] - 2s 75ms/step - loss: 0.5793 - accuracy: 0.8488 - val_loss: 1.6436 - val_accuracy: 0.5280\n",
            "Epoch 153/250\n",
            "33/33 [==============================] - 2s 75ms/step - loss: 0.5658 - accuracy: 0.8481 - val_loss: 1.6011 - val_accuracy: 0.5307\n",
            "Epoch 154/250\n",
            "33/33 [==============================] - 2s 75ms/step - loss: 0.5930 - accuracy: 0.8406 - val_loss: 1.6380 - val_accuracy: 0.5440\n",
            "Epoch 155/250\n",
            "33/33 [==============================] - 2s 76ms/step - loss: 0.5642 - accuracy: 0.8567 - val_loss: 1.6778 - val_accuracy: 0.5627\n",
            "Epoch 156/250\n",
            "33/33 [==============================] - 3s 77ms/step - loss: 0.5763 - accuracy: 0.8490 - val_loss: 1.6433 - val_accuracy: 0.5680\n",
            "Epoch 157/250\n",
            "33/33 [==============================] - 3s 76ms/step - loss: 0.5581 - accuracy: 0.8596 - val_loss: 1.6669 - val_accuracy: 0.5493\n",
            "Epoch 158/250\n",
            "33/33 [==============================] - 3s 76ms/step - loss: 0.5642 - accuracy: 0.8512 - val_loss: 1.6764 - val_accuracy: 0.5440\n",
            "Epoch 159/250\n",
            "33/33 [==============================] - 3s 76ms/step - loss: 0.5737 - accuracy: 0.8347 - val_loss: 1.6807 - val_accuracy: 0.5360\n",
            "Epoch 160/250\n",
            "33/33 [==============================] - 3s 76ms/step - loss: 0.5441 - accuracy: 0.8551 - val_loss: 1.6718 - val_accuracy: 0.5573\n",
            "Epoch 161/250\n",
            "33/33 [==============================] - 3s 76ms/step - loss: 0.5606 - accuracy: 0.8456 - val_loss: 1.7153 - val_accuracy: 0.5413\n",
            "Epoch 162/250\n",
            "33/33 [==============================] - 3s 77ms/step - loss: 0.5669 - accuracy: 0.8368 - val_loss: 1.7479 - val_accuracy: 0.5387\n",
            "Epoch 163/250\n",
            "33/33 [==============================] - 3s 76ms/step - loss: 0.5670 - accuracy: 0.8418 - val_loss: 1.7309 - val_accuracy: 0.5413\n",
            "Epoch 164/250\n",
            "33/33 [==============================] - 3s 76ms/step - loss: 0.5496 - accuracy: 0.8553 - val_loss: 1.6547 - val_accuracy: 0.5413\n",
            "Epoch 165/250\n",
            "33/33 [==============================] - 3s 77ms/step - loss: 0.5390 - accuracy: 0.8571 - val_loss: 1.6243 - val_accuracy: 0.5467\n",
            "Epoch 166/250\n",
            "33/33 [==============================] - 3s 77ms/step - loss: 0.5387 - accuracy: 0.8587 - val_loss: 1.6159 - val_accuracy: 0.5440\n",
            "Epoch 167/250\n",
            "33/33 [==============================] - 2s 76ms/step - loss: 0.5450 - accuracy: 0.8587 - val_loss: 1.6422 - val_accuracy: 0.5360\n",
            "Epoch 168/250\n",
            "33/33 [==============================] - 3s 76ms/step - loss: 0.5433 - accuracy: 0.8600 - val_loss: 1.6816 - val_accuracy: 0.5307\n",
            "Epoch 169/250\n",
            "33/33 [==============================] - 3s 76ms/step - loss: 0.5519 - accuracy: 0.8531 - val_loss: 1.7016 - val_accuracy: 0.5440\n",
            "Epoch 170/250\n",
            "33/33 [==============================] - 3s 76ms/step - loss: 0.5505 - accuracy: 0.8554 - val_loss: 1.7115 - val_accuracy: 0.5280\n",
            "Epoch 171/250\n",
            "33/33 [==============================] - 3s 76ms/step - loss: 0.5210 - accuracy: 0.8721 - val_loss: 1.7065 - val_accuracy: 0.5360\n",
            "Epoch 172/250\n",
            "33/33 [==============================] - 3s 77ms/step - loss: 0.5292 - accuracy: 0.8641 - val_loss: 1.6576 - val_accuracy: 0.5360\n",
            "Epoch 173/250\n",
            "33/33 [==============================] - 3s 78ms/step - loss: 0.5376 - accuracy: 0.8537 - val_loss: 1.6648 - val_accuracy: 0.5387\n",
            "Epoch 174/250\n",
            "33/33 [==============================] - 3s 76ms/step - loss: 0.5458 - accuracy: 0.8477 - val_loss: 1.6892 - val_accuracy: 0.5333\n",
            "Epoch 175/250\n",
            "33/33 [==============================] - 3s 76ms/step - loss: 0.5159 - accuracy: 0.8679 - val_loss: 1.6400 - val_accuracy: 0.5440\n",
            "Epoch 176/250\n",
            "33/33 [==============================] - 3s 76ms/step - loss: 0.5174 - accuracy: 0.8585 - val_loss: 1.6344 - val_accuracy: 0.5440\n",
            "Epoch 177/250\n",
            "33/33 [==============================] - 2s 76ms/step - loss: 0.5198 - accuracy: 0.8600 - val_loss: 1.5935 - val_accuracy: 0.5360\n",
            "Epoch 178/250\n",
            "33/33 [==============================] - 2s 76ms/step - loss: 0.5271 - accuracy: 0.8678 - val_loss: 1.6305 - val_accuracy: 0.5387\n",
            "Epoch 179/250\n",
            "33/33 [==============================] - 2s 76ms/step - loss: 0.5006 - accuracy: 0.8719 - val_loss: 1.6931 - val_accuracy: 0.5467\n",
            "Epoch 180/250\n",
            "33/33 [==============================] - 3s 76ms/step - loss: 0.5004 - accuracy: 0.8696 - val_loss: 1.6981 - val_accuracy: 0.5440\n",
            "Epoch 181/250\n",
            "33/33 [==============================] - 2s 75ms/step - loss: 0.5253 - accuracy: 0.8649 - val_loss: 1.6914 - val_accuracy: 0.5413\n",
            "Epoch 00181: early stopping\n"
          ],
          "name": "stdout"
        }
      ]
    },
    {
      "cell_type": "markdown",
      "metadata": {
        "id": "CjEB9_N95DHJ"
      },
      "source": [
        "## **8. Evaluating model through different performance metrics**"
      ]
    },
    {
      "cell_type": "code",
      "metadata": {
        "id": "3-8nr23H5DHJ"
      },
      "source": [
        "labels = ['Air Conditioner', 'Car Horn', 'Children Playing', 'Dog bark', 'Drilling', 'Engine Idling', 'Gun Shot', 'Jackhammer', 'Siren', 'Street Music']"
      ],
      "execution_count": null,
      "outputs": []
    },
    {
      "cell_type": "markdown",
      "metadata": {
        "id": "rTDfDvHw5DHJ"
      },
      "source": [
        "### **12.1 Accuracy**"
      ]
    },
    {
      "cell_type": "code",
      "metadata": {
        "id": "zaSm4k4V5DHK",
        "colab": {
          "base_uri": "https://localhost:8080/"
        },
        "outputId": "e6fb8303-86aa-41ea-9941-9741d08cc763"
      },
      "source": [
        "model_evaluation_report(model, X_train, y_train_encoded, X_test, y_test_encoded)"
      ],
      "execution_count": null,
      "outputs": [
        {
          "output_type": "stream",
          "text": [
            "                    LOSS      ACCURACY\n",
            "--------------------------------------\n",
            "Training:         0.5202       87.7306\n",
            "Test:             1.2656       63.0758\n",
            "Normal diff         58.90 \n"
          ],
          "name": "stdout"
        }
      ]
    },
    {
      "cell_type": "markdown",
      "metadata": {
        "id": "3TrgudlZ5DHK"
      },
      "source": [
        "### **12.2 Visualizing Accuracy in Each Epoch**"
      ]
    },
    {
      "cell_type": "code",
      "metadata": {
        "id": "PAluj7UT5DHK",
        "colab": {
          "base_uri": "https://localhost:8080/",
          "height": 352
        },
        "outputId": "7591d284-9764-4cc7-cfe9-07e4e5d8f70e"
      },
      "source": [
        "acc_plot(history)"
      ],
      "execution_count": null,
      "outputs": [
        {
          "output_type": "display_data",
          "data": {
            "image/png": "[encoded data removed]",
            "text/plain": [
              "<Figure size 576x360 with 1 Axes>"
            ]
          },
          "metadata": {
            "tags": [],
            "needs_background": "light"
          }
        }
      ]
    },
    {
      "cell_type": "markdown",
      "metadata": {
        "id": "dQW01p6R5DHL"
      },
      "source": [
        "### **12.3 Confusion Matrix**"
      ]
    },
    {
      "cell_type": "code",
      "metadata": {
        "id": "RifTy8Pu5DHL"
      },
      "source": [
        "y_probs = model.predict(X_test, verbose=0)\n",
        "yhat_probs = np.argmax(y_probs, axis=1) #Getting predicted labels\n",
        "y_trues = np.argmax(y_test_encoded, axis=1)"
      ],
      "execution_count": null,
      "outputs": []
    },
    {
      "cell_type": "code",
      "metadata": {
        "id": "8tpSpuXO5DHL",
        "colab": {
          "base_uri": "https://localhost:8080/"
        },
        "outputId": "fd9c73d8-0af7-4c87-a5c1-502861583e7e"
      },
      "source": [
        "cm = confusion_matrix(y_trues, yhat_probs)\n",
        "cm"
      ],
      "execution_count": null,
      "outputs": [
        {
          "output_type": "execute_result",
          "data": {
            "text/plain": [
              "array([[279,   5,  46,   3,  49,  36,   0,  59,  11,  12],\n",
              "       [  4, 153,   4,   8,  11,   2,   6,   6,   7,  20],\n",
              "       [ 21,   3, 352,  40,  11,  14,   2,   4,  24,  29],\n",
              "       [ 33,   2,  43, 361,   9,   9,  14,  10,  12,   7],\n",
              "       [ 30,  17,   5,  43, 234,  15,   4, 133,  11,   8],\n",
              "       [113,   1,   4,   7,   2, 229,   6, 106,   6,   9],\n",
              "       [  0,   1,   0,  14,   0,   0, 169,   0,   0,   0],\n",
              "       [ 24,   0,   1,   2, 128,   8,   3, 283,   3,   0],\n",
              "       [  8,   8,   2,  37,  14,   2,   0,   7, 285,  30],\n",
              "       [ 12,   5,  91,  11,  19,   7,   0,   7,  23, 325]])"
            ]
          },
          "metadata": {
            "tags": []
          },
          "execution_count": 41
        }
      ]
    },
    {
      "cell_type": "code",
      "metadata": {
        "id": "wYdSwrW65DHM",
        "colab": {
          "base_uri": "https://localhost:8080/",
          "height": 497
        },
        "outputId": "939de047-d460-4be5-c270-528320cfe09d"
      },
      "source": [
        "def display_cm():\n",
        "  CM = confusion_matrix(y_trues, yhat_probs)\n",
        "  f, ax = plt.subplots(figsize=(8,8))\n",
        "  sb.heatmap(CM,annot = True, linewidths=0.5,linecolor=\"white\",fmt=\".0f\",ax=ax, cmap=plt.cm.copper)\n",
        "  plt.xlabel(\"Prediction(Ypred)\")\n",
        "  plt.ylabel(\"Ytrue\")\n",
        "  plt.show()\n",
        "display_cm()"
      ],
      "execution_count": null,
      "outputs": [
        {
          "output_type": "display_data",
          "data": {
            "image/png": "[encoded data removed]",
            "text/plain": [
              "<Figure size 576x576 with 2 Axes>"
            ]
          },
          "metadata": {
            "tags": []
          }
        }
      ]
    },
    {
      "cell_type": "markdown",
      "metadata": {
        "id": "n0RN1J9U5DHM"
      },
      "source": [
        "### **12.5 Classification Report**"
      ]
    },
    {
      "cell_type": "code",
      "metadata": {
        "id": "qNcLFfQQ5DHM",
        "colab": {
          "base_uri": "https://localhost:8080/"
        },
        "outputId": "48570a47-5ea1-4b27-e28f-9274d0e238cf"
      },
      "source": [
        "re = classification_report(y_trues, yhat_probs, labels=[0,1,2,3,4,5,6,7,8,9], target_names=labels)\n",
        "print(re)"
      ],
      "execution_count": null,
      "outputs": [
        {
          "output_type": "stream",
          "text": [
            "                  precision    recall  f1-score   support\n",
            "\n",
            " Air Conditioner       0.53      0.56      0.54       500\n",
            "        Car Horn       0.78      0.69      0.74       221\n",
            "Children Playing       0.64      0.70      0.67       500\n",
            "        Dog bark       0.69      0.72      0.70       500\n",
            "        Drilling       0.49      0.47      0.48       500\n",
            "   Engine Idling       0.71      0.47      0.57       483\n",
            "        Gun Shot       0.83      0.92      0.87       184\n",
            "      Jackhammer       0.46      0.63      0.53       452\n",
            "           Siren       0.75      0.73      0.74       393\n",
            "    Street Music       0.74      0.65      0.69       500\n",
            "\n",
            "        accuracy                           0.63      4233\n",
            "       macro avg       0.66      0.65      0.65      4233\n",
            "    weighted avg       0.64      0.63      0.63      4233\n",
            "\n"
          ],
          "name": "stdout"
        }
      ]
    },
    {
      "cell_type": "markdown",
      "metadata": {
        "id": "WrBX4jki5DHN"
      },
      "source": [
        "### **12.6 Accuracy per Class**"
      ]
    },
    {
      "cell_type": "code",
      "metadata": {
        "id": "gRDEutgp5DHN",
        "colab": {
          "base_uri": "https://localhost:8080/",
          "height": 359
        },
        "outputId": "6d73e845-c452-4f29-8815-cf7f57347f7b"
      },
      "source": [
        "accuracies = acc_per_class(cm)\n",
        "pd.DataFrame({\n",
        "    'CLASS': labels,\n",
        "    'ACCURACY': accuracies}).sort_values(by=\"ACCURACY\", ascending=False)"
      ],
      "execution_count": null,
      "outputs": [
        {
          "output_type": "execute_result",
          "data": {
            "text/html": [
              "<div>\n",
              "<style scoped>\n",
              "    .dataframe tbody tr th:only-of-type {\n",
              "        vertical-align: middle;\n",
              "    }\n",
              "\n",
              "    .dataframe tbody tr th {\n",
              "        vertical-align: top;\n",
              "    }\n",
              "\n",
              "    .dataframe thead th {\n",
              "        text-align: right;\n",
              "    }\n",
              "</style>\n",
              "<table border=\"1\" class=\"dataframe\">\n",
              "  <thead>\n",
              "    <tr style=\"text-align: right;\">\n",
              "      <th></th>\n",
              "      <th>CLASS</th>\n",
              "      <th>ACCURACY</th>\n",
              "    </tr>\n",
              "  </thead>\n",
              "  <tbody>\n",
              "    <tr>\n",
              "      <th>6</th>\n",
              "      <td>Gun Shot</td>\n",
              "      <td>91.847826</td>\n",
              "    </tr>\n",
              "    <tr>\n",
              "      <th>8</th>\n",
              "      <td>Siren</td>\n",
              "      <td>72.519084</td>\n",
              "    </tr>\n",
              "    <tr>\n",
              "      <th>3</th>\n",
              "      <td>Dog bark</td>\n",
              "      <td>72.200000</td>\n",
              "    </tr>\n",
              "    <tr>\n",
              "      <th>2</th>\n",
              "      <td>Children Playing</td>\n",
              "      <td>70.400000</td>\n",
              "    </tr>\n",
              "    <tr>\n",
              "      <th>1</th>\n",
              "      <td>Car Horn</td>\n",
              "      <td>69.230769</td>\n",
              "    </tr>\n",
              "    <tr>\n",
              "      <th>9</th>\n",
              "      <td>Street Music</td>\n",
              "      <td>65.000000</td>\n",
              "    </tr>\n",
              "    <tr>\n",
              "      <th>7</th>\n",
              "      <td>Jackhammer</td>\n",
              "      <td>62.610619</td>\n",
              "    </tr>\n",
              "    <tr>\n",
              "      <th>0</th>\n",
              "      <td>Air Conditioner</td>\n",
              "      <td>55.800000</td>\n",
              "    </tr>\n",
              "    <tr>\n",
              "      <th>5</th>\n",
              "      <td>Engine Idling</td>\n",
              "      <td>47.412008</td>\n",
              "    </tr>\n",
              "    <tr>\n",
              "      <th>4</th>\n",
              "      <td>Drilling</td>\n",
              "      <td>46.800000</td>\n",
              "    </tr>\n",
              "  </tbody>\n",
              "</table>\n",
              "</div>"
            ],
            "text/plain": [
              "              CLASS   ACCURACY\n",
              "6          Gun Shot  91.847826\n",
              "8             Siren  72.519084\n",
              "3          Dog bark  72.200000\n",
              "2  Children Playing  70.400000\n",
              "1          Car Horn  69.230769\n",
              "9      Street Music  65.000000\n",
              "7        Jackhammer  62.610619\n",
              "0   Air Conditioner  55.800000\n",
              "5     Engine Idling  47.412008\n",
              "4          Drilling  46.800000"
            ]
          },
          "metadata": {
            "tags": []
          },
          "execution_count": 44
        }
      ]
    }
  ]
}